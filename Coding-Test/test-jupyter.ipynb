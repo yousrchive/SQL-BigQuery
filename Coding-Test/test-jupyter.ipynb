{
 "cells": [
  {
   "cell_type": "markdown",
   "metadata": {},
   "source": [
    "# Babbling"
   ]
  },
  {
   "cell_type": "code",
   "execution_count": 6,
   "metadata": {},
   "outputs": [],
   "source": [
    "import re"
   ]
  },
  {
   "cell_type": "code",
   "execution_count": 7,
   "metadata": {},
   "outputs": [],
   "source": [
    "def solution(babbling):\n",
    "    count = 0\n",
    "    patterns = ['aya', 'ye', 'woo', 'ma']\n",
    "\n",
    "    regex_pattern = re.compile(\"^(aya|ye|woo|ma)+$\")\n",
    "    #정규 표현식을 컴파일하여 정규식 객체를 생성하는 함수\n",
    "    #문자열에서 패턴을 찾거나 매칭할 때 사용\n",
    "    #'+'는 패턴이 1번 이상 반복될 수 있음을 의미\n",
    "    #'$' 문자열의 끝\n",
    "    #'^'시작\n",
    "    #aya, ye, woo, ma 문자열이 하나 이상 반복, 문자열의 처음부터 끝까지 일치하는지 확인\n",
    "\n",
    "    for word in babbling: #solution의 객체로 들어오는 babbling의 하나하나씩 word에 대해\n",
    "        if regex_pattern.match(word):\n",
    "            count += 1\n",
    "\n",
    "    return count #모든 word에 대해 수행 후 count\n",
    "    #이때 해당 word를 구성하고 있는 요소들이 아니라, 각각 하나씩이 아니라 regex_pattern 하나씩을 수행."
   ]
  },
  {
   "cell_type": "code",
   "execution_count": 8,
   "metadata": {},
   "outputs": [
    {
     "data": {
      "text/plain": [
       "3"
      ]
     },
     "execution_count": 8,
     "metadata": {},
     "output_type": "execute_result"
    }
   ],
   "source": [
    "solution(['ayayewoo', 'ayaaaa', 'mawooye', 'yeaya'])"
   ]
  },
  {
   "cell_type": "code",
   "execution_count": 9,
   "metadata": {},
   "outputs": [
    {
     "data": {
      "text/plain": [
       "2"
      ]
     },
     "execution_count": 9,
     "metadata": {},
     "output_type": "execute_result"
    }
   ],
   "source": [
    "solution(['wo', 'ayaaaa', 'mamamama', 'yeaya'])"
   ]
  },
  {
   "cell_type": "markdown",
   "metadata": {},
   "source": [
    "# Common"
   ]
  },
  {
   "cell_type": "code",
   "execution_count": 1,
   "metadata": {},
   "outputs": [],
   "source": [
    "def solution(common): #common이라는 리스트를 인수로 받음\n",
    "    if common[1] - common[0] == common[2] - common[1]:\n",
    "        diff = common[1] - common[0]\n",
    "        return common[-1] + diff #마지막 것에서 공차를 더한 걸 return\n",
    "\n",
    "    else: #등비수열인 경우\n",
    "        ratio = common[1] // common[0] #공비\n",
    "        return common[-1] * ratio"
   ]
  },
  {
   "cell_type": "code",
   "execution_count": 4,
   "metadata": {},
   "outputs": [
    {
     "data": {
      "text/plain": [
       "11"
      ]
     },
     "execution_count": 4,
     "metadata": {},
     "output_type": "execute_result"
    }
   ],
   "source": [
    "solution([-1, 2, 5, 8])"
   ]
  },
  {
   "cell_type": "code",
   "execution_count": 2,
   "metadata": {},
   "outputs": [
    {
     "data": {
      "text/plain": [
       "16"
      ]
     },
     "execution_count": 2,
     "metadata": {},
     "output_type": "execute_result"
    }
   ],
   "source": [
    "solution([1, 2, 4, 8])"
   ]
  },
  {
   "cell_type": "code",
   "execution_count": 3,
   "metadata": {},
   "outputs": [
    {
     "data": {
      "text/plain": [
       "15"
      ]
     },
     "execution_count": 3,
     "metadata": {},
     "output_type": "execute_result"
    }
   ],
   "source": [
    "solution([1, 3, 2, 3, 5]) #이 경우 등차수열 or 등비수열만 인지하기 때문에 정확히 내지 못한다."
   ]
  },
  {
   "cell_type": "markdown",
   "metadata": {},
   "source": [
    "필요한 경우 등차수열도, 등비수열도 아닌 경우를 else로 정의해야 함."
   ]
  },
  {
   "cell_type": "markdown",
   "metadata": {},
   "source": [
    "# Scissor"
   ]
  },
  {
   "cell_type": "code",
   "execution_count": 10,
   "metadata": {},
   "outputs": [],
   "source": [
    "def solution(m, n):\n",
    "    return m*n-1"
   ]
  },
  {
   "cell_type": "code",
   "execution_count": 12,
   "metadata": {},
   "outputs": [
    {
     "data": {
      "text/plain": [
       "9"
      ]
     },
     "execution_count": 12,
     "metadata": {},
     "output_type": "execute_result"
    }
   ],
   "source": [
    "solution(2, 5)"
   ]
  },
  {
   "cell_type": "markdown",
   "metadata": {},
   "source": [
    "# Series"
   ]
  },
  {
   "cell_type": "code",
   "execution_count": 18,
   "metadata": {},
   "outputs": [],
   "source": [
    "def solution(num, total):\n",
    "    a = (total - (num * (num -1)) // 2) // num\n",
    "    return [a + i for i in range(num)]"
   ]
  },
  {
   "cell_type": "code",
   "execution_count": 23,
   "metadata": {},
   "outputs": [
    {
     "name": "stdout",
     "output_type": "stream",
     "text": [
      "0\n",
      "1\n",
      "2\n",
      "3\n"
     ]
    }
   ],
   "source": [
    "for i in range(4):\n",
    "    print(i) #0부터 4까지의 i들을 a에 더하면 나옴"
   ]
  },
  {
   "cell_type": "code",
   "execution_count": 24,
   "metadata": {},
   "outputs": [
    {
     "data": {
      "text/plain": [
       "[3, 4, 5]"
      ]
     },
     "execution_count": 24,
     "metadata": {},
     "output_type": "execute_result"
    }
   ],
   "source": [
    "solution(3, 12)"
   ]
  },
  {
   "cell_type": "markdown",
   "metadata": {},
   "source": [
    "# Permutations"
   ]
  },
  {
   "cell_type": "code",
   "execution_count": 27,
   "metadata": {},
   "outputs": [
    {
     "name": "stdout",
     "output_type": "stream",
     "text": [
      "('a', 'b', 'c')\n",
      "('a', 'c', 'b')\n",
      "('b', 'a', 'c')\n",
      "('b', 'c', 'a')\n",
      "('c', 'a', 'b')\n",
      "('c', 'b', 'a')\n"
     ]
    }
   ],
   "source": [
    "from itertools import permutations\n",
    "\n",
    "result = permutations(\"abc\")\n",
    "\n",
    "for perm in result:\n",
    "    print(perm) #하나하나씩 다 생성!"
   ]
  },
  {
   "cell_type": "code",
   "execution_count": null,
   "metadata": {},
   "outputs": [],
   "source": [
    "#근데 이걸 다시 합쳐야 함."
   ]
  },
  {
   "cell_type": "code",
   "execution_count": 38,
   "metadata": {},
   "outputs": [
    {
     "data": {
      "text/plain": [
       "['cba', 'cab', 'bca', 'bac', 'acb', 'abc']"
      ]
     },
     "execution_count": 38,
     "metadata": {},
     "output_type": "execute_result"
    }
   ],
   "source": [
    "possible_words = [''.join(p) for p in permutations(perm)]\n",
    "possible_words"
   ]
  },
  {
   "cell_type": "markdown",
   "metadata": {},
   "source": [
    "# Bracelet"
   ]
  },
  {
   "cell_type": "code",
   "execution_count": 41,
   "metadata": {},
   "outputs": [
    {
     "name": "stdout",
     "output_type": "stream",
     "text": [
      "16\n"
     ]
    }
   ],
   "source": [
    "def min_bracelet_length(N, beads):\n",
    "    beads.sort()\n",
    "\n",
    "    total_length = 0 #계산하여 값을 담을 인수 초기화\n",
    "    for i in range(N-1): #index가 N-1, 즉 마지막인 범위까지:\n",
    "        total_length += abs(beads[i] - beads[i+1]) #i+1 헷갈리지 않게\n",
    "\n",
    "    total_length += abs(beads[0] - beads[N-1])\n",
    "\n",
    "    return total_length\n",
    "\n",
    "N = int(input())\n",
    "beads = list(map(int, input().split()))\n",
    "\n",
    "result = min_bracelet_length(N, beads)\n",
    "print(result)"
   ]
  },
  {
   "cell_type": "markdown",
   "metadata": {},
   "source": [
    "# Wallet and Bills"
   ]
  },
  {
   "cell_type": "code",
   "execution_count": 42,
   "metadata": {},
   "outputs": [],
   "source": [
    "def solution(wallet, bill):\n",
    "    a, b = bill  # 지폐 크기 (가로, 세로)\n",
    "    c, d = wallet  # 지갑 크기 (가로, 세로)\n",
    "\n",
    "    answer = 0  # 초기 접기 횟수\n",
    "\n",
    "    while True:\n",
    "        # 지폐가 지갑에 들어갈 수 있는지 확인\n",
    "        if (a <= c and b <= d) or (a <= d and b <= c):\n",
    "            break  # 접을 필요 없음\n",
    "\n",
    "        # 더 긴 쪽을 반으로 접기\n",
    "        if a > b:\n",
    "            a //= 2  # 가로를 반으로 접음\n",
    "        else:\n",
    "            b //= 2  # 세로를 반으로 접음\n",
    "\n",
    "        answer += 1  # 접기 횟수 증가\n",
    "\n",
    "    return answer"
   ]
  },
  {
   "cell_type": "code",
   "execution_count": 43,
   "metadata": {},
   "outputs": [
    {
     "data": {
      "text/plain": [
       "4"
      ]
     },
     "execution_count": 43,
     "metadata": {},
     "output_type": "execute_result"
    }
   ],
   "source": [
    "solution([50, 50], [100, 241])"
   ]
  },
  {
   "cell_type": "code",
   "execution_count": 48,
   "metadata": {},
   "outputs": [],
   "source": [
    "def calculate_string_length():\n",
    "    N = int(input())\n",
    "    beads = list(map(int, input().split()))\n",
    "\n",
    "    beads.sort()\n",
    "\n",
    "    string_length = 0\n",
    "\n",
    "    for i in range(N-1):\n",
    "        string_length += abs(beads[i] - beads[i+1])\n",
    "\n",
    "    return string_length"
   ]
  },
  {
   "cell_type": "code",
   "execution_count": 47,
   "metadata": {},
   "outputs": [
    {
     "data": {
      "text/plain": [
       "12"
      ]
     },
     "execution_count": 47,
     "metadata": {},
     "output_type": "execute_result"
    }
   ],
   "source": [
    "calculate_string_length()"
   ]
  }
 ],
 "metadata": {
  "kernelspec": {
   "display_name": "Python 3",
   "language": "python",
   "name": "python3"
  },
  "language_info": {
   "codemirror_mode": {
    "name": "ipython",
    "version": 3
   },
   "file_extension": ".py",
   "mimetype": "text/x-python",
   "name": "python",
   "nbconvert_exporter": "python",
   "pygments_lexer": "ipython3",
   "version": "3.11.10"
  }
 },
 "nbformat": 4,
 "nbformat_minor": 2
}
